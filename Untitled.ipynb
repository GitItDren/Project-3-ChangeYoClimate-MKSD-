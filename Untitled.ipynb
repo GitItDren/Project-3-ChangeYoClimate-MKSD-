{
 "cells": [
  {
   "cell_type": "code",
   "execution_count": 1,
   "id": "dad3b270-1c9d-4c80-9f22-45f152a8ef3e",
   "metadata": {},
   "outputs": [],
   "source": [
    "# Import dependencies\n",
    "from pymongo import MongoClient\n",
    "from pprint import pprint"
   ]
  },
  {
   "cell_type": "code",
   "execution_count": 2,
   "id": "ba6bc3db-d31e-4a3d-8ff1-d3cd11ba9bef",
   "metadata": {},
   "outputs": [],
   "source": [
    "# Create an instance of MongoClient\n",
    "mongo = MongoClient(port=27017)"
   ]
  },
  {
   "cell_type": "code",
   "execution_count": 3,
   "id": "362f961d-20c9-4f0b-a798-b5f4488c21bf",
   "metadata": {},
   "outputs": [
    {
     "name": "stdout",
     "output_type": "stream",
     "text": [
      "['ChangeYoClimate', 'admin', 'autosaurus', 'config', 'fruitsDB', 'local', 'petsily_marketing', 'petsitly_marketing', 'uk_food']\n"
     ]
    }
   ],
   "source": [
    "# confirm that our new database was created\n",
    "print(mongo.list_database_names())"
   ]
  },
  {
   "cell_type": "code",
   "execution_count": 4,
   "id": "2da47b2a-1a5f-45a7-aab1-bab672801dd9",
   "metadata": {},
   "outputs": [],
   "source": [
    "# assign the uk_food database to a variable name\n",
    "db = mongo['ChangeYoClimate']"
   ]
  },
  {
   "cell_type": "code",
   "execution_count": 5,
   "id": "1f462e3f-e8b3-4664-980f-2b2de32d1d2d",
   "metadata": {},
   "outputs": [
    {
     "name": "stdout",
     "output_type": "stream",
     "text": [
      "['disaster_freq_melted', 'lan_cov_melted', 'Net_Increment', 'as_temp_chan_melted', 'id_cou_cont', 'forest_C_melted', 'Gross_Increment', 'Total_gross_non_freshwater', 'Total_abstractions_reused_water', 'Abstractions_agriculture_Non_freshwater', 'Meadows_and_pastures_land_area', 'Arable_and_cropland_land_area', 'Natural_losses', 'Forest_land_area', 'Abstractions_agriculture_Reused_water']\n"
     ]
    }
   ],
   "source": [
    "# review the collections in our new database\n",
    "print(db.list_collection_names())"
   ]
  },
  {
   "cell_type": "code",
   "execution_count": 6,
   "id": "6547d68d-0210-47b0-95ec-b69ecee1d90a",
   "metadata": {},
   "outputs": [
    {
     "name": "stdout",
     "output_type": "stream",
     "text": [
      "{'ObjectId': 295761724,\n",
      " '_id': ObjectId('651af4afda6aecb33f15f9e1'),\n",
      " 'continent': 'Asia',\n",
      " 'country': 'Afghanistan, Islamic Rep. of',\n",
      " 'cts_full_descriptor': 'Environment, Climate Change, Climate Indicators, '\n",
      "                        'Climate Related Disasters Frequency',\n",
      " 'iso3': 'AFG',\n",
      " 'source': 'The Emergency Events Database (EM-DAT) , Centre for Research on '\n",
      "           'the Epidemiology of Disasters (CRED) / Université catholique de '\n",
      "           'Louvain (UCLouvain), Brussels, Belgium – www.emdat.be. Accessed on '\n",
      "           '2023-03-31.',\n",
      " 'year': 1980}\n"
     ]
    }
   ],
   "source": [
    "pprint(db.disaster_freq_melted.find_one())"
   ]
  },
  {
   "cell_type": "code",
   "execution_count": null,
   "id": "08fe930e-07b0-49c4-a3cc-f624cf45564d",
   "metadata": {},
   "outputs": [],
   "source": []
  }
 ],
 "metadata": {
  "kernelspec": {
   "display_name": "Python 3 (ipykernel)",
   "language": "python",
   "name": "python3"
  },
  "language_info": {
   "codemirror_mode": {
    "name": "ipython",
    "version": 3
   },
   "file_extension": ".py",
   "mimetype": "text/x-python",
   "name": "python",
   "nbconvert_exporter": "python",
   "pygments_lexer": "ipython3",
   "version": "3.10.11"
  }
 },
 "nbformat": 4,
 "nbformat_minor": 5
}
